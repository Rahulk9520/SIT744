{
  "nbformat": 4,
  "nbformat_minor": 0,
  "metadata": {
    "colab": {
      "name": "assignment_2_SIT744.ipynb",
      "provenance": [],
      "collapsed_sections": [
        "twFQbltnm8da",
        "cfTL_5kPsl4j"
      ],
      "toc_visible": true,
      "machine_shape": "hm"
    },
    "kernelspec": {
      "name": "python3",
      "display_name": "Python 3"
    }
  },
  "cells": [
    {
      "cell_type": "markdown",
      "metadata": {
        "id": "wjif_5FsdOFz"
      },
      "source": [
        "# SIT744 Assignment 2: Deep Learning Project \n",
        "\n",
        "<div class=\"alert-info\">\n",
        "    <p>Due: <strong>8:00pm 16 May 2022</strong>  (Monday)</p>\n",
        "\n",
        "This is an <strong>individual</strong> assignment. It contributes <strong>40%</strong> to your final mark. Read the assignment instruction carefully.\n",
        "\n",
        "<h2> What to submit </h2>\n",
        "\n",
        "<p>\n",
        "This assignment is to be completed individually and submitted to CloudDeakin. <strong>By the due date, you are required to submit the following files to the corresponding Assignment (Dropbox) in CloudDeakin</strong>:\n",
        "\n",
        "<ol>\n",
        "<li>\t<strong>[YourID]_assignment2_solution.ipynb</strong>:  This is your Python notebook solution source file. </li>\n",
        "<li>\t<strong>[YourID]_assingment2_output.html</strong> or <strong>[YourID]_assingment2_output.pdf</strong>: This is the output of your Python notebook solution <emph>exported</emph> in HTML or PDF format.</li>\n",
        "<li>\tExtra files needed to complete your assignment, if any (e.g., images used in your answers).</li>\n",
        "</ol>\n",
        "</p>\n",
        "\n",
        "<p>\n",
        "For example, if your student ID is: 123456, you will then need to submit the following files:\n",
        "<ul>\n",
        "<li> 123456_assignment2_solution.ipynb </li>\n",
        "<li> 123456_assignment2_output.html</li>\n",
        "</ul>\n",
        "</p>\n",
        "\n",
        "<h2> Warning </h2>\n",
        "\n",
        "Some components of this assignment may involve heavy computation that runs for a long duration. Please start early to avoid missing the assignment due date.\n",
        "\n",
        "<h2> Marking criteria </h2>\n",
        "\n",
        "<p>\n",
        "Your submission will be assessed based on the overall impact of your effort. A useful model (or application) should be your focus. But as in Assignment 1, we will also consider the following criteria at the same time.\n",
        "\n",
        "<ul>\n",
        "<li> Showing good effort through completed tasks.</li>\n",
        "<li> Applying deep learning theory to design suitable deep learning solutions for the tasks.</li>\n",
        "<li> Critically evaluating and reflecting on the pros and cons of various design decisions.</li>\n",
        "<li> Demonstrating creativity and resourcefulness in providing unique individual solutions.</li>\n",
        "<li> Showing attention to detail through a good quality assignment report.</li>\n",
        "</ul>\n",
        "</p>\n",
        "\n",
        "\n",
        "</div>"
      ]
    },
    {
      "cell_type": "markdown",
      "metadata": {
        "id": "twFQbltnm8da"
      },
      "source": [
        "## Assignment objective\n",
        "\n",
        "This assignment is to feedback on your learning in deep learning theory and its application to  data analytics or artificial intelligence problems.  \n",
        "\n",
        "It builds on Assignment 1 but requires a higher level of mastery of deep learning theory and programming/engineering skills. In particular, you will practice making design decisions yourself. You are also likely to encounter practical issues that will help you consolidate textbook learning. "
      ]
    },
    {
      "cell_type": "markdown",
      "metadata": {
        "id": "3ITc1hw_o7qV"
      },
      "source": [
        "## **Task 1 (P Task) Smart Recycling using Deep Learning**\n",
        "\n",
        "In Assignment 1, you tackled the image classification problem in Fashion-MNIST. There, you used a Densely Connected Neural Network. In Assignment 2, you will apply the best practices of deep-learning computer vision to make something useful for our planet—waste classification.\n",
        "\n",
        "**Background** Every day, we put things into our recycle bin, to reduce landfill waste. However, we may unintentionally contribute to [recycling contamination](https://www.cleanaway.com.au/sustainable-future/contamination-main/) by \"wish recycling\" the wrong items. As every city council has slightly different rules for recycling, you will build a technological solution to ensure you only recycle things that are permitted by your local council. More discussions about recycling contamination can be found [here](https://www.cleanup.org.au/recycle).\n",
        "![Recycling rule of a local council (source: Whitehorse City Council)](https://www.whitehorse.vic.gov.au/sites/whitehorse.vic.gov.au/files/assets/images/Recycle%20Right%20A3%20Poster.jpg \"Recycling rule of a local council\")\n",
        "\n",
        "### Task 1.1 Define a problem\n",
        "\n",
        "Define an image classification problem that may help people better recycle, particularly by reducing contamination.\n",
        "\n",
        "Describe the desired inputs and outputs, including the target classes.\n",
        "\n",
        "\n",
        "\n",
        "### Task 1.2 Make a plan\n",
        "\n",
        "What dataset can you use to develop a deep learning solution?\n",
        "\n",
        "How many images do you need? How many for training? How many for testing?\n",
        "\n",
        "Do you need to label the images yourself?\n",
        "\n",
        "How do you determine if your model is good enough?\n",
        "\n",
        "### Task 1.3 Implement a solution\n",
        "\n",
        "Collect relevant data.\n",
        "Develop a deep learning model.\n",
        "Report the model performance against the success criteria that you define.\n",
        "\n",
        "\n",
        "\n",
        "\n",
        "\n",
        "\n",
        "\n",
        "\n",
        "\n",
        "\n"
      ]
    },
    {
      "cell_type": "markdown",
      "metadata": {
        "id": "zdHwmgwOpEfx"
      },
      "source": [
        "## **Task 2 (C Task) Analyse and improve the model**\n",
        "\n",
        "### Task 2.1 Build an input pipeline for data augmentation\n",
        "\n",
        "\n",
        "Build a data preprocessing pipeline to perform data augmentation. (You may use Keras ImageDataGenerator or write your own transformations.)\n",
        "\n",
        "- Report the model performance with the pipeline added. How much performance gain have you achieved?    \n",
        "\n",
        "- Profile your input pipeline to identify the most time-consuming operation. What actions have you taken to address that slow operation? (*Hint: You may use a profiler such as the [TensorFlow Profiler](https://github.com/tensorflow/profiler).*)\n",
        "\n",
        "\n",
        "### Task 2.2 Compare the performance under equal training time\n",
        "\n",
        "You may notice that with your pipeline, the model performance improves, but at the cost of a longer training time per epoch. Is the additional training time well spent? Compare the dynamic of model performance (e.g., classification accuracy on the test data) with and without data augmentation, when equal training time is spent in the two scenarios. \n",
        "\n",
        "### Task 2.3 Identifying model strength and weakness\n",
        "\n",
        "Identify images that are incorrectly classified by your model. Do they share something in common? How do you plan to improve the model's performance on those images? "
      ]
    },
    {
      "cell_type": "markdown",
      "metadata": {
        "id": "cfTL_5kPsl4j"
      },
      "source": [
        "## **Task 3 (D Task) Improve model generalisability across domains**\n",
        "\n",
        "So far, you have used training and test images from the same source (via random data split). Now collect new test images from a different source. For example, you may take some photos yourself if you used downloaded images before.\n",
        "Otherwise, you may take new photos using a different mobile phone or against a different background.\n",
        "\n",
        "Show sample images from the original test data and the newly collected test data. In what ways are they different?\n",
        "\n",
        "Feed the new test data into your model. Report the performance change.\n",
        "\n",
        "Improve your model so that it generalises better on unseen test images.\n"
      ]
    },
    {
      "cell_type": "markdown",
      "source": [
        "## **Task 4 (HD Task) Build a workable prototype**\n",
        "\n",
        "Build a web/mobile app that people from your city council can use to determine what to recycle. Test your prototype with the target users and report their feedback.\n",
        "\n",
        "Upload your code into a GitHub repository.\n",
        "\n",
        "Create a short video presentation about your product."
      ],
      "metadata": {
        "id": "TcMnso0Ptoyx"
      }
    },
    {
      "cell_type": "markdown",
      "metadata": {
        "id": "hUV0wuZ01DNA"
      },
      "source": [
        "---\n",
        "**END OF ASSIGNMENT TWO**"
      ]
    }
  ]
}